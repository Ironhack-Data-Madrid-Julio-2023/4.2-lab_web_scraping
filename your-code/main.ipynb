{
 "cells": [
  {
   "cell_type": "markdown",
   "metadata": {},
   "source": [
    "# Web Scraping Lab\n",
    "\n",
    "You will find in this notebook some scrapy exercises to practise your scraping skills.\n",
    "\n",
    "**Tips:**\n",
    "\n",
    "- Check the response status code for each request to ensure you have obtained the intended contennt.\n",
    "- Print the response text in each request to understand the kind of info you are getting and its format.\n",
    "- Check for patterns in the response text to extract the data/info requested in each question.\n",
    "- Visit each url and take a look at its source through Chrome DevTools. You'll need to identify the html tags, special class names etc. used for the html content you are expected to extract."
   ]
  },
  {
   "cell_type": "markdown",
   "metadata": {},
   "source": [
    "- [Requests library](http://docs.python-requests.org/en/master/#the-user-guide) documentation \n",
    "- [Beautiful Soup Doc](https://www.crummy.com/software/BeautifulSoup/bs4/doc/)\n",
    "- [Urllib](https://docs.python.org/3/library/urllib.html#module-urllib)\n",
    "- [re lib](https://docs.python.org/3/library/re.html)\n",
    "- [lxml lib](https://lxml.de/)\n",
    "- [Scrapy](https://scrapy.org/)\n",
    "- [List of HTTP status codes](https://en.wikipedia.org/wiki/List_of_HTTP_status_codes)\n",
    "- [HTML basics](http://www.simplehtmlguide.com/cheatsheet.php)\n",
    "- [CSS basics](https://www.cssbasics.com/#page_start)"
   ]
  },
  {
   "cell_type": "markdown",
   "metadata": {},
   "source": [
    "#### Below are the libraries and modules you may need. `requests`,  `BeautifulSoup` and `pandas` are imported for you. If you prefer to use additional libraries feel free to uncomment them."
   ]
  },
  {
   "cell_type": "code",
   "execution_count": 1,
   "metadata": {},
   "outputs": [
    {
     "name": "stdout",
     "output_type": "stream",
     "text": [
      "^C\n",
      "Note: you may need to restart the kernel to use updated packages.\n"
     ]
    }
   ],
   "source": [
    "%pip install beautifulsoup4"
   ]
  },
  {
   "cell_type": "code",
   "execution_count": 2,
   "metadata": {},
   "outputs": [],
   "source": [
    "import requests as req\n",
    "from bs4 import BeautifulSoup as bs\n",
    "import pandas as pd\n",
    "from IPython.display import HTML\n",
    "\n",
    "# from pprint import pprint\n",
    "# from lxml import html\n",
    "# from lxml.html import fromstring\n",
    "# import urllib.request\n",
    "# from urllib.request import urlopen\n",
    "# import random\n",
    "# import re\n",
    "# import scrapy"
   ]
  },
  {
   "cell_type": "markdown",
   "metadata": {},
   "source": [
    "#### Download, parse (using BeautifulSoup), and print the content from the Trending Developers page from GitHub:"
   ]
  },
  {
   "cell_type": "code",
   "execution_count": 3,
   "metadata": {},
   "outputs": [
    {
     "name": "stdout",
     "output_type": "stream",
     "text": [
      "Requirement already satisfied: beautifulsoup4 in c:\\users\\filokaizen\\anaconda3\\lib\\site-packages (4.12.2)\n",
      "Requirement already satisfied: soupsieve>1.2 in c:\\users\\filokaizen\\anaconda3\\lib\\site-packages (from beautifulsoup4) (2.4)\n"
     ]
    }
   ],
   "source": [
    "#your code\n",
    "\n",
    "url = 'https://github.com/trending/developers'\n",
    "\n",
    "html = req.get(url).text\n",
    "\n",
    "sopa = bs(html, 'html.parser') # parseo la sopa, para transformarlo a algo similiar al htlm(etiquetas y demás)\n"
   ]
  },
  {
   "cell_type": "code",
   "execution_count": 4,
   "metadata": {},
   "outputs": [
    {
     "data": {
      "text/plain": [
       "['Clement Tsang',\n",
       " 'Mattias Wadman',\n",
       " 'Henrik Rydgård',\n",
       " 'Jose Diaz-Gonzalez',\n",
       " 'Andrei',\n",
       " 'sinclairzx81',\n",
       " 'boojack',\n",
       " 'lllyasviel',\n",
       " 'Martin von Zweigbergk',\n",
       " 'Ismail Pelaseyed',\n",
       " 'Jerry Liu',\n",
       " 'C. T. Lin',\n",
       " 'oobabooga',\n",
       " 'Lee Robinson',\n",
       " 'Emil Ernerfeldt',\n",
       " 'jdx',\n",
       " 'Earle F. Philhower, III',\n",
       " 'Casey Rodarmor',\n",
       " 'Yagiz Nizipli',\n",
       " 'Patrick von Platen',\n",
       " 'xiaoyifang',\n",
       " 'DaniPopes',\n",
       " 'Mehdi Hadeli',\n",
       " 'Michael Davis',\n",
       " 'Lexi Mattick']"
      ]
     },
     "execution_count": 4,
     "metadata": {},
     "output_type": "execute_result"
    }
   ],
   "source": [
    "name = sopa.find_all(\"h1\", class_ = \"h3 lh-condensed\") # la class sea h3 lh-condesed\n",
    "\n",
    "lista = [] # Creo una lista vacia para meter los nombres\n",
    "\n",
    "for i in name:\n",
    "    lista.append(i.text.strip())\n",
    "\n",
    "lista\n"
   ]
  },
  {
   "cell_type": "markdown",
   "metadata": {},
   "source": [
    "#### Display the names of the trending developers retrieved in the previous step.\n",
    "\n",
    "Your output should be a Python list of developer names. Each name should not contain any html tag.\n",
    "\n",
    "**Instructions:**\n",
    "\n",
    "1. Find out the html tag and class names used for the developer names. You can achieve this using Chrome DevTools.\n",
    "\n",
    "1. Use BeautifulSoup to extract all the html elements that contain the developer names.\n",
    "\n",
    "1. Use string manipulation techniques to replace whitespaces and linebreaks (i.e. `\\n`) in the *text* of each html element. Use a list to store the clean names.\n",
    "\n",
    "1. Print the list of names.\n",
    "\n",
    "Your output should look like below:\n",
    "\n",
    "```\n",
    "['trimstray (@trimstray)',\n",
    " 'joewalnes (JoeWalnes)',\n",
    " 'charlax (Charles-AxelDein)',\n",
    " 'ForrestKnight (ForrestKnight)',\n",
    " 'revery-ui (revery-ui)',\n",
    " 'alibaba (Alibaba)',\n",
    " 'Microsoft (Microsoft)',\n",
    " 'github (GitHub)',\n",
    " 'facebook (Facebook)',\n",
    " 'boazsegev (Bo)',\n",
    " 'google (Google)',\n",
    " 'cloudfetch',\n",
    " 'sindresorhus (SindreSorhus)',\n",
    " 'tensorflow',\n",
    " 'apache (TheApacheSoftwareFoundation)',\n",
    " 'DevonCrawford (DevonCrawford)',\n",
    " 'ARMmbed (ArmMbed)',\n",
    " 'vuejs (vuejs)',\n",
    " 'fastai (fast.ai)',\n",
    " 'QiShaoXuan (Qi)',\n",
    " 'joelparkerhenderson (JoelParkerHenderson)',\n",
    " 'torvalds (LinusTorvalds)',\n",
    " 'CyC2018',\n",
    " 'komeiji-satori (神楽坂覚々)',\n",
    " 'script-8']\n",
    " ```"
   ]
  },
  {
   "cell_type": "code",
   "execution_count": 5,
   "metadata": {},
   "outputs": [
    {
     "name": "stdout",
     "output_type": "stream",
     "text": [
      "ClementTsang\n",
      "wader\n",
      "hrydgard\n",
      "josegonzalez\n",
      "abetlen\n",
      "martinvonz\n",
      "homanp\n",
      "jerryjliu\n",
      "chentsulin\n",
      "leerob\n",
      "emilk\n",
      "earlephilhower\n",
      "casey\n",
      "anonrig\n",
      "patrickvonplaten\n",
      "mehdihadeli\n",
      "the-mikedavis\n",
      "kognise\n"
     ]
    }
   ],
   "source": [
    "#your code\n",
    "\n",
    "alias = sopa.find_all (\"a\", class_= \"Link--secondary Link\" )\n",
    "for i in alias:\n",
    "    print(i.text.strip())"
   ]
  },
  {
   "cell_type": "markdown",
   "metadata": {},
   "source": [
    "#### Display the trending Python repositories in GitHub\n",
    "\n",
    "The steps to solve this problem is similar to the previous one except that you need to find out the repository names instead of developer names."
   ]
  },
  {
   "cell_type": "code",
   "execution_count": 6,
   "metadata": {},
   "outputs": [
    {
     "name": "stdout",
     "output_type": "stream",
     "text": [
      "facebookresearch /\n",
      "\n",
      "      codellama\n",
      "nlpxucan /\n",
      "\n",
      "      WizardLM\n",
      "Pythagora-io /\n",
      "\n",
      "      gpt-pilot\n",
      "neulab /\n",
      "\n",
      "      prompt2model\n",
      "Z4nzu /\n",
      "\n",
      "      hackingtool\n",
      "Plachtaa /\n",
      "\n",
      "      VALL-E-X\n",
      "facebookresearch /\n",
      "\n",
      "      llama\n",
      "firmai /\n",
      "\n",
      "      financial-machine-learning\n",
      "public-apis /\n",
      "\n",
      "      public-apis\n",
      "oobabooga /\n",
      "\n",
      "      text-generation-webui\n",
      "geekan /\n",
      "\n",
      "      MetaGPT\n",
      "blakeblackshear /\n",
      "\n",
      "      frigate\n",
      "AUTOMATIC1111 /\n",
      "\n",
      "      stable-diffusion-webui\n",
      "Stability-AI /\n",
      "\n",
      "      stablediffusion\n",
      "kovidgoyal /\n",
      "\n",
      "      calibre\n",
      "continuedev /\n",
      "\n",
      "      continue\n",
      "elebumm /\n",
      "\n",
      "      RedditVideoMakerBot\n",
      "paperless-ngx /\n",
      "\n",
      "      paperless-ngx\n",
      "paul-gauthier /\n",
      "\n",
      "      aider\n",
      "RadeonOpenCompute /\n",
      "\n",
      "      ROCm\n",
      "satwikkansal /\n",
      "\n",
      "      wtfpython\n",
      "w-okada /\n",
      "\n",
      "      voice-changer\n",
      "dgtlmoon /\n",
      "\n",
      "      changedetection.io\n",
      "Zulko /\n",
      "\n",
      "      moviepy\n",
      "facebookresearch /\n",
      "\n",
      "      audiocraft\n"
     ]
    }
   ],
   "source": [
    "# This is the url you will scrape in this exercise\n",
    "url = 'https://github.com/trending/python?since=daily'\n",
    "\n",
    "html = req.get(url).content # puedo obtener un text o content\n",
    "\n",
    "sopa = bs(html, \"html.parser\") # parseo la sopa, para ver algo similiar a un html\n",
    "\n",
    "repositorios = sopa.find_all(\"h2\" , class_ = \"h3 lh-condensed\") # etiqueta h2, con nombre h3 ...\n",
    "\n",
    "for repositorios in repositorios:\n",
    "    print(repositorios.text.strip().replace(\"/n\" , \" \"))"
   ]
  },
  {
   "cell_type": "markdown",
   "metadata": {},
   "source": [
    "#### Display all the image links from Walt Disney wikipedia page"
   ]
  },
  {
   "cell_type": "code",
   "execution_count": 7,
   "metadata": {},
   "outputs": [
    {
     "name": "stdout",
     "output_type": "stream",
     "text": [
      "/static/images/icons/wikipedia.png\n",
      "/static/images/mobile/copyright/wikipedia-wordmark-en.svg\n",
      "/static/images/mobile/copyright/wikipedia-tagline-en.svg\n",
      "//upload.wikimedia.org/wikipedia/en/thumb/e/e7/Cscr-featured.svg/20px-Cscr-featured.svg.png\n",
      "//upload.wikimedia.org/wikipedia/en/thumb/8/8c/Extended-protection-shackle.svg/20px-Extended-protection-shackle.svg.png\n",
      "//upload.wikimedia.org/wikipedia/commons/thumb/d/df/Walt_Disney_1946.JPG/220px-Walt_Disney_1946.JPG\n",
      "//upload.wikimedia.org/wikipedia/commons/thumb/8/87/Walt_Disney_1942_signature.svg/150px-Walt_Disney_1942_signature.svg.png\n",
      "//upload.wikimedia.org/wikipedia/commons/thumb/3/3a/Walt_Disney_Birthplace_Exterior_Hermosa_Chicago_Illinois.jpg/220px-Walt_Disney_Birthplace_Exterior_Hermosa_Chicago_Illinois.jpg\n",
      "//upload.wikimedia.org/wikipedia/commons/thumb/c/c4/Walt_Disney_envelope_ca._1921.jpg/220px-Walt_Disney_envelope_ca._1921.jpg\n",
      "//upload.wikimedia.org/wikipedia/en/thumb/4/4e/Steamboat-willie.jpg/220px-Steamboat-willie.jpg\n",
      "//upload.wikimedia.org/wikipedia/commons/thumb/c/cd/Walt_Disney_Snow_white_1937_trailer_screenshot_%2813%29.jpg/220px-Walt_Disney_Snow_white_1937_trailer_screenshot_%2813%29.jpg\n",
      "//upload.wikimedia.org/wikipedia/commons/thumb/1/15/Disney_drawing_goofy.jpg/170px-Disney_drawing_goofy.jpg\n",
      "//upload.wikimedia.org/wikipedia/commons/thumb/8/8c/WaltDisneyplansDisneylandDec1954.jpg/220px-WaltDisneyplansDisneylandDec1954.jpg\n",
      "//upload.wikimedia.org/wikipedia/commons/thumb/f/ff/Walt_disney_portrait_right.jpg/170px-Walt_disney_portrait_right.jpg\n",
      "//upload.wikimedia.org/wikipedia/commons/thumb/1/1a/Walt_Disney_Grave.JPG/170px-Walt_Disney_Grave.JPG\n",
      "//upload.wikimedia.org/wikipedia/commons/thumb/1/13/DisneySchiphol1951.jpg/220px-DisneySchiphol1951.jpg\n",
      "//upload.wikimedia.org/wikipedia/commons/thumb/6/6c/Disney1968.jpg/170px-Disney1968.jpg\n",
      "//upload.wikimedia.org/wikipedia/commons/thumb/b/b0/Disney_Oscar_1953_%28cropped%29.jpg/170px-Disney_Oscar_1953_%28cropped%29.jpg\n",
      "//upload.wikimedia.org/wikipedia/en/thumb/4/4a/Commons-logo.svg/30px-Commons-logo.svg.png\n",
      "//upload.wikimedia.org/wikipedia/commons/thumb/4/4c/Wikisource-logo.svg/38px-Wikisource-logo.svg.png\n",
      "//upload.wikimedia.org/wikipedia/commons/thumb/f/fa/Wikiquote-logo.svg/34px-Wikiquote-logo.svg.png\n",
      "//upload.wikimedia.org/wikipedia/en/thumb/8/8a/OOjs_UI_icon_edit-ltr-progressive.svg/10px-OOjs_UI_icon_edit-ltr-progressive.svg.png\n",
      "//upload.wikimedia.org/wikipedia/en/thumb/8/8a/OOjs_UI_icon_edit-ltr-progressive.svg/10px-OOjs_UI_icon_edit-ltr-progressive.svg.png\n",
      "//upload.wikimedia.org/wikipedia/commons/thumb/e/e3/Disneyland_Resort_logo.svg/135px-Disneyland_Resort_logo.svg.png\n",
      "//upload.wikimedia.org/wikipedia/commons/thumb/d/da/Animation_disc.svg/20px-Animation_disc.svg.png\n",
      "//upload.wikimedia.org/wikipedia/en/thumb/6/69/P_vip.svg/19px-P_vip.svg.png\n",
      "//upload.wikimedia.org/wikipedia/commons/thumb/1/1a/Magic_Kingdom_castle.jpg/15px-Magic_Kingdom_castle.jpg\n",
      "//upload.wikimedia.org/wikipedia/en/thumb/e/e7/Video-x-generic.svg/19px-Video-x-generic.svg.png\n",
      "//upload.wikimedia.org/wikipedia/commons/thumb/a/a3/Flag_of_Los_Angeles_County%2C_California.svg/21px-Flag_of_Los_Angeles_County%2C_California.svg.png\n",
      "//upload.wikimedia.org/wikipedia/commons/thumb/8/8c/Blank_television_set.svg/21px-Blank_television_set.svg.png\n",
      "//upload.wikimedia.org/wikipedia/en/thumb/a/a4/Flag_of_the_United_States.svg/21px-Flag_of_the_United_States.svg.png\n",
      "//upload.wikimedia.org/wikipedia/en/thumb/4/4a/Commons-logo.svg/14px-Commons-logo.svg.png\n",
      "//upload.wikimedia.org/wikipedia/commons/thumb/f/fa/Wikiquote-logo.svg/16px-Wikiquote-logo.svg.png\n",
      "//upload.wikimedia.org/wikipedia/commons/thumb/4/4c/Wikisource-logo.svg/18px-Wikisource-logo.svg.png\n",
      "//upload.wikimedia.org/wikipedia/commons/thumb/f/ff/Wikidata-logo.svg/21px-Wikidata-logo.svg.png\n",
      "//upload.wikimedia.org/wikipedia/en/thumb/8/8a/OOjs_UI_icon_edit-ltr-progressive.svg/10px-OOjs_UI_icon_edit-ltr-progressive.svg.png\n",
      "//en.wikipedia.org/wiki/Special:CentralAutoLogin/start?type=1x1\n",
      "/static/images/footer/wikimedia-button.png\n",
      "/static/images/footer/poweredby_mediawiki_88x31.png\n"
     ]
    }
   ],
   "source": [
    "# This is the url you will scrape in this exercise\n",
    "url = 'https://en.wikipedia.org/wiki/Walt_Disney'\n",
    "\n",
    "html = req.get(url).content \n",
    "\n",
    "sopa = bs(html, 'html.parser') # parseo la sopa, para ver algo similiar a un html\n",
    "\n",
    "\n",
    "link = []\n",
    "sopa.find_all('img') # Formato ig \n",
    "\n",
    "links_image = [i['src']for i in sopa.find_all('img')]\n",
    "\n",
    "for link in links_image:\n",
    "    print(link)"
   ]
  },
  {
   "cell_type": "markdown",
   "metadata": {},
   "source": [
    "#### Retrieve an arbitary Wikipedia page of \"Python\" and create a list of links on that page"
   ]
  },
  {
   "cell_type": "code",
   "execution_count": 20,
   "metadata": {},
   "outputs": [],
   "source": [
    "# This is the url you will scrape in this exercise\n",
    "url ='https://en.wikipedia.org/wiki/Python' \n",
    "html = req.get(url).content\n",
    "\n",
    "sopa = bs(html ,\"html.parser\") #Cocino la sopita"
   ]
  },
  {
   "cell_type": "code",
   "execution_count": 21,
   "metadata": {},
   "outputs": [
    {
     "data": {
      "text/plain": [
       "'/wiki/Main_Page'"
      ]
     },
     "execution_count": 21,
     "metadata": {},
     "output_type": "execute_result"
    }
   ],
   "source": [
    "etiqueta = sopa.find_all(\"a\") #busco todas las etiquetas con a\n",
    "etiqueta[1].attrs[\"href\"] # accedo a la segunda etiqueta de mi lista de etiquetas \n",
    "#recordar cajas etiquetas de Yona, "
   ]
  },
  {
   "cell_type": "code",
   "execution_count": 26,
   "metadata": {},
   "outputs": [
    {
     "data": {
      "text/plain": [
       "['#bodyContent',\n",
       " '/wiki/Main_Page',\n",
       " '/wiki/Wikipedia:Contents',\n",
       " '/wiki/Portal:Current_events',\n",
       " '/wiki/Special:Random',\n",
       " '/wiki/Wikipedia:About',\n",
       " '//en.wikipedia.org/wiki/Wikipedia:Contact_us',\n",
       " 'https://donate.wikimedia.org/wiki/Special:FundraiserRedirector?utm_source=donate&utm_medium=sidebar&utm_campaign=C13_en.wikipedia.org&uselang=en',\n",
       " '/wiki/Help:Contents',\n",
       " '/wiki/Help:Introduction',\n",
       " '/wiki/Wikipedia:Community_portal',\n",
       " '/wiki/Special:RecentChanges',\n",
       " '/wiki/Wikipedia:File_upload_wizard',\n",
       " '/wiki/Main_Page',\n",
       " '/wiki/Special:Search',\n",
       " '/w/index.php?title=Special:CreateAccount&returnto=Python',\n",
       " '/w/index.php?title=Special:UserLogin&returnto=Python',\n",
       " '/w/index.php?title=Special:CreateAccount&returnto=Python',\n",
       " '/w/index.php?title=Special:UserLogin&returnto=Python',\n",
       " '/wiki/Help:Introduction',\n",
       " '/wiki/Special:MyContributions',\n",
       " '/wiki/Special:MyTalk',\n",
       " '#',\n",
       " '#Snakes',\n",
       " '#Computing',\n",
       " '#People',\n",
       " '#Roller_coasters',\n",
       " '#Vehicles',\n",
       " '#Weaponry',\n",
       " '#Other_uses',\n",
       " '#See_also',\n",
       " 'https://af.wikipedia.org/wiki/Python',\n",
       " 'https://als.wikipedia.org/wiki/Python',\n",
       " 'https://ar.wikipedia.org/wiki/%D8%A8%D8%A7%D9%8A%D8%AB%D9%88%D9%86_(%D8%AA%D9%88%D8%B6%D9%8A%D8%AD)',\n",
       " 'https://az.wikipedia.org/wiki/Python_(d%C9%99qiql%C9%99%C5%9Fdirm%C9%99)',\n",
       " 'https://bn.wikipedia.org/wiki/%E0%A6%AA%E0%A6%BE%E0%A6%87%E0%A6%A5%E0%A6%A8_(%E0%A6%A6%E0%A7%8D%E0%A6%AC%E0%A7%8D%E0%A6%AF%E0%A6%B0%E0%A7%8D%E0%A6%A5%E0%A6%A4%E0%A6%BE_%E0%A6%A8%E0%A6%BF%E0%A6%B0%E0%A6%B8%E0%A6%A8)',\n",
       " 'https://be.wikipedia.org/wiki/Python',\n",
       " 'https://bg.wikipedia.org/wiki/%D0%9F%D0%B8%D1%82%D0%BE%D0%BD_(%D0%BF%D0%BE%D1%8F%D1%81%D0%BD%D0%B5%D0%BD%D0%B8%D0%B5)',\n",
       " 'https://cs.wikipedia.org/wiki/Python_(rozcestn%C3%ADk)',\n",
       " 'https://da.wikipedia.org/wiki/Python',\n",
       " 'https://de.wikipedia.org/wiki/Python',\n",
       " 'https://eo.wikipedia.org/wiki/Pitono_(apartigilo)',\n",
       " 'https://eu.wikipedia.org/wiki/Python_(argipena)',\n",
       " 'https://fa.wikipedia.org/wiki/%D9%BE%D8%A7%DB%8C%D8%AA%D9%88%D9%86',\n",
       " 'https://fr.wikipedia.org/wiki/Python',\n",
       " 'https://ko.wikipedia.org/wiki/%ED%8C%8C%EC%9D%B4%EC%84%A0',\n",
       " 'https://hr.wikipedia.org/wiki/Python_(razdvojba)',\n",
       " 'https://io.wikipedia.org/wiki/Pitono',\n",
       " 'https://id.wikipedia.org/wiki/Python',\n",
       " 'https://ia.wikipedia.org/wiki/Python_(disambiguation)',\n",
       " 'https://is.wikipedia.org/wiki/Python_(a%C3%B0greining)',\n",
       " 'https://it.wikipedia.org/wiki/Python_(disambigua)',\n",
       " 'https://he.wikipedia.org/wiki/%D7%A4%D7%99%D7%AA%D7%95%D7%9F',\n",
       " 'https://ka.wikipedia.org/wiki/%E1%83%9E%E1%83%98%E1%83%97%E1%83%9D%E1%83%9C%E1%83%98_(%E1%83%9B%E1%83%A0%E1%83%90%E1%83%95%E1%83%90%E1%83%9A%E1%83%9B%E1%83%9C%E1%83%98%E1%83%A8%E1%83%95%E1%83%9C%E1%83%94%E1%83%9A%E1%83%9D%E1%83%95%E1%83%90%E1%83%9C%E1%83%98)',\n",
       " 'https://kg.wikipedia.org/wiki/Mboma_(nyoka)',\n",
       " 'https://la.wikipedia.org/wiki/Python_(discretiva)',\n",
       " 'https://lb.wikipedia.org/wiki/Python',\n",
       " 'https://hu.wikipedia.org/wiki/Python_(egy%C3%A9rtelm%C5%B1s%C3%ADt%C5%91_lap)',\n",
       " 'https://mr.wikipedia.org/wiki/%E0%A4%AA%E0%A4%BE%E0%A4%AF%E0%A4%A5%E0%A5%89%E0%A4%A8_(%E0%A4%86%E0%A4%9C%E0%A5%8D%E0%A4%9E%E0%A4%BE%E0%A4%B5%E0%A4%B2%E0%A5%80_%E0%A4%AD%E0%A4%BE%E0%A4%B7%E0%A4%BE)',\n",
       " 'https://nl.wikipedia.org/wiki/Python',\n",
       " 'https://ja.wikipedia.org/wiki/%E3%83%91%E3%82%A4%E3%82%BD%E3%83%B3',\n",
       " 'https://no.wikipedia.org/wiki/Pyton',\n",
       " 'https://pl.wikipedia.org/wiki/Pyton',\n",
       " 'https://pt.wikipedia.org/wiki/Python_(desambigua%C3%A7%C3%A3o)',\n",
       " 'https://ru.wikipedia.org/wiki/Python_(%D0%B7%D0%BD%D0%B0%D1%87%D0%B5%D0%BD%D0%B8%D1%8F)',\n",
       " 'https://sk.wikipedia.org/wiki/Python',\n",
       " 'https://sr.wikipedia.org/wiki/%D0%9F%D0%B8%D1%82%D0%BE%D0%BD_(%D0%B2%D0%B8%D1%88%D0%B5%D0%B7%D0%BD%D0%B0%D1%87%D0%BD%D0%B0_%D0%BE%D0%B4%D1%80%D0%B5%D0%B4%D0%BD%D0%B8%D1%86%D0%B0)',\n",
       " 'https://sh.wikipedia.org/wiki/Python',\n",
       " 'https://fi.wikipedia.org/wiki/Python',\n",
       " 'https://sv.wikipedia.org/wiki/Pyton',\n",
       " 'https://th.wikipedia.org/wiki/%E0%B9%84%E0%B8%9E%E0%B8%97%E0%B8%AD%E0%B8%99',\n",
       " 'https://tr.wikipedia.org/wiki/Python_(anlam_ayr%C4%B1m%C4%B1)',\n",
       " 'https://uk.wikipedia.org/wiki/%D0%9F%D1%96%D1%84%D0%BE%D0%BD',\n",
       " 'https://ur.wikipedia.org/wiki/%D9%BE%D8%A7%D8%A6%DB%8C%D8%AA%DA%BE%D9%88%D9%86',\n",
       " 'https://vi.wikipedia.org/wiki/Python',\n",
       " 'https://zh.wikipedia.org/wiki/Python_(%E6%B6%88%E6%AD%A7%E4%B9%89)',\n",
       " 'https://www.wikidata.org/wiki/Special:EntityPage/Q747452#sitelinks-wikipedia',\n",
       " '/wiki/Python',\n",
       " '/wiki/Talk:Python',\n",
       " '/wiki/Python',\n",
       " '/w/index.php?title=Python&action=edit',\n",
       " '/w/index.php?title=Python&action=history',\n",
       " '/wiki/Python',\n",
       " '/w/index.php?title=Python&action=edit',\n",
       " '/w/index.php?title=Python&action=history',\n",
       " '/wiki/Special:WhatLinksHere/Python',\n",
       " '/wiki/Special:RecentChangesLinked/Python',\n",
       " '/wiki/Wikipedia:File_Upload_Wizard',\n",
       " '/wiki/Special:SpecialPages',\n",
       " '/w/index.php?title=Python&oldid=1169225710',\n",
       " '/w/index.php?title=Python&action=info',\n",
       " '/w/index.php?title=Special:CiteThisPage&page=Python&id=1169225710&wpFormIdentifier=titleform',\n",
       " 'https://www.wikidata.org/wiki/Special:EntityPage/Q747452',\n",
       " '/w/index.php?title=Special:DownloadAsPdf&page=Python&action=show-download-screen',\n",
       " '/w/index.php?title=Python&printable=yes',\n",
       " 'https://commons.wikimedia.org/wiki/Category:Python',\n",
       " 'https://en.wiktionary.org/wiki/Python',\n",
       " 'https://en.wiktionary.org/wiki/python',\n",
       " '/w/index.php?title=Python&action=edit&section=1',\n",
       " '/wiki/Pythonidae',\n",
       " '/wiki/Python_(genus)',\n",
       " '/wiki/Python_(mythology)',\n",
       " '/w/index.php?title=Python&action=edit&section=2',\n",
       " '/wiki/Python_(programming_language)',\n",
       " '/wiki/CMU_Common_Lisp',\n",
       " '/wiki/PERQ#PERQ_3',\n",
       " '/w/index.php?title=Python&action=edit&section=3',\n",
       " '/wiki/Python_of_Aenus',\n",
       " '/wiki/Python_(painter)',\n",
       " '/wiki/Python_of_Byzantium',\n",
       " '/wiki/Python_of_Catana',\n",
       " '/wiki/Python_Anghelo',\n",
       " '/w/index.php?title=Python&action=edit&section=4',\n",
       " '/wiki/Python_(Efteling)',\n",
       " '/wiki/Python_(Busch_Gardens_Tampa_Bay)',\n",
       " '/wiki/Python_(Coney_Island,_Cincinnati,_Ohio)',\n",
       " '/w/index.php?title=Python&action=edit&section=5',\n",
       " '/wiki/Python_(automobile_maker)',\n",
       " '/wiki/Python_(Ford_prototype)',\n",
       " '/w/index.php?title=Python&action=edit&section=6',\n",
       " '/wiki/Python_(missile)',\n",
       " '/wiki/Python_(nuclear_primary)',\n",
       " '/wiki/Colt_Python',\n",
       " '/w/index.php?title=Python&action=edit&section=7',\n",
       " '/wiki/Python_(codename)',\n",
       " '/wiki/Python_(film)',\n",
       " '/wiki/Monty_Python',\n",
       " '/wiki/Python_(Monty)_Pictures',\n",
       " '/wiki/Timon_of_Phlius',\n",
       " '/w/index.php?title=Python&action=edit&section=8',\n",
       " '/wiki/Pyton',\n",
       " '/wiki/Pithon',\n",
       " '/wiki/File:Disambig_gray.svg',\n",
       " '/wiki/Help:Disambiguation',\n",
       " 'https://en.wikipedia.org/w/index.php?title=Special:WhatLinksHere/Python&namespace=0',\n",
       " 'https://en.wikipedia.org/w/index.php?title=Python&oldid=1169225710',\n",
       " '/wiki/Help:Category',\n",
       " '/wiki/Category:Disambiguation_pages',\n",
       " '/wiki/Category:Human_name_disambiguation_pages',\n",
       " '/wiki/Category:Disambiguation_pages_with_given-name-holder_lists',\n",
       " '/wiki/Category:Short_description_is_different_from_Wikidata',\n",
       " '/wiki/Category:All_article_disambiguation_pages',\n",
       " '/wiki/Category:All_disambiguation_pages',\n",
       " '/wiki/Category:Animal_common_name_disambiguation_pages',\n",
       " 'https://creativecommons.org/licenses/by-sa/4.0/',\n",
       " '//creativecommons.org/licenses/by-sa/4.0/',\n",
       " '//foundation.wikimedia.org/wiki/Terms_of_Use',\n",
       " '//foundation.wikimedia.org/wiki/Privacy_policy',\n",
       " '//www.wikimediafoundation.org/',\n",
       " 'https://foundation.wikimedia.org/wiki/Special:MyLanguage/Policy:Privacy_policy',\n",
       " '/wiki/Wikipedia:About',\n",
       " '/wiki/Wikipedia:General_disclaimer',\n",
       " '//en.wikipedia.org/wiki/Wikipedia:Contact_us',\n",
       " 'https://foundation.wikimedia.org/wiki/Special:MyLanguage/Universal_Code_of_Conduct',\n",
       " '//en.m.wikipedia.org/w/index.php?title=Python&mobileaction=toggle_view_mobile',\n",
       " 'https://developer.wikimedia.org',\n",
       " 'https://stats.wikimedia.org/#/en.wikipedia.org',\n",
       " 'https://foundation.wikimedia.org/wiki/Special:MyLanguage/Policy:Cookie_statement',\n",
       " 'https://wikimediafoundation.org/',\n",
       " 'https://www.mediawiki.org/']"
      ]
     },
     "execution_count": 26,
     "metadata": {},
     "output_type": "execute_result"
    }
   ],
   "source": [
    "links = [etiqueta[i].attrs[\"href\"] for i in range(len(etiqueta))]\n",
    "links"
   ]
  },
  {
   "cell_type": "markdown",
   "metadata": {},
   "source": [
    "#### Number of Titles that have changed in the United States Code since its last release point "
   ]
  },
  {
   "cell_type": "code",
   "execution_count": 27,
   "metadata": {},
   "outputs": [],
   "source": [
    "# This is the url you will scrape in this exercise\n",
    "url = 'http://uscode.house.gov/download/download.shtml'"
   ]
  },
  {
   "cell_type": "code",
   "execution_count": 32,
   "metadata": {},
   "outputs": [],
   "source": [
    "#your code \n",
    "html = req.get(url).content # Extraemos el html lo podemos dejar con content o text\n",
    "html[:500] # para solo ver los 500 caracteres \n",
    "sopa = bs(html, \"html.parser\") # Cocino la sopita para ver algo semejante a html\n"
   ]
  },
  {
   "cell_type": "code",
   "execution_count": 44,
   "metadata": {},
   "outputs": [
    {
     "data": {
      "text/plain": [
       "['All titles in the format selected compressed into a zip archive.',\n",
       " '',\n",
       " 'Title 1 - General Provisions ٭',\n",
       " 'Title 2 - The Congress',\n",
       " 'Title 3 - The President ٭',\n",
       " 'Title 4 - Flag and Seal, Seat of Government, and the States ٭',\n",
       " 'Title 5 - Government Organization and Employees ٭',\n",
       " 'Title 6 - Domestic Security',\n",
       " 'Title 7 - Agriculture',\n",
       " 'Title 8 - Aliens and Nationality',\n",
       " 'Title 9 - Arbitration ٭',\n",
       " 'Title 10 - Armed Forces ٭',\n",
       " 'Title 11 - Bankruptcy ٭',\n",
       " 'Title 12 - Banks and Banking',\n",
       " 'Title 13 - Census ٭',\n",
       " 'Title 14 - Coast Guard ٭',\n",
       " 'Title 15 - Commerce and Trade',\n",
       " 'Title 16 - Conservation',\n",
       " 'Title 17 - Copyrights ٭',\n",
       " 'Title 18 - Crimes and Criminal Procedure ٭',\n",
       " 'Title 20 - Education',\n",
       " 'Title 21 - Food and Drugs',\n",
       " 'Title 22 - Foreign Relations and Intercourse',\n",
       " 'Title 23 - Highways ٭',\n",
       " 'Title 24 - Hospitals and Asylums',\n",
       " 'Title 25 - Indians',\n",
       " 'Title 26 - Internal Revenue Code',\n",
       " 'Title 27 - Intoxicating Liquors',\n",
       " 'Title 28 - Judiciary and Judicial Procedure ٭',\n",
       " 'Title 29 - Labor',\n",
       " 'Title 30 - Mineral Lands and Mining',\n",
       " 'Title 31 - Money and Finance ٭',\n",
       " 'Title 32 - National Guard ٭',\n",
       " 'Title 33 - Navigation and Navigable Waters',\n",
       " 'Title 34 - Crime Control and Law Enforcement',\n",
       " 'Title 35 - Patents ٭',\n",
       " 'Title 36 - Patriotic and National Observances, Ceremonies, and Organizations ٭',\n",
       " 'Title 37 - Pay and Allowances of the Uniformed Services ٭',\n",
       " \"Title 38 - Veterans' Benefits ٭\",\n",
       " 'Title 39 - Postal Service ٭',\n",
       " 'Title 40 - Public Buildings, Property, and Works ٭',\n",
       " 'Title 41 - Public Contracts ٭',\n",
       " 'Title 42 - The Public Health and Welfare',\n",
       " 'Title 43 - Public Lands',\n",
       " 'Title 44 - Public Printing and Documents ٭',\n",
       " 'Title 45 - Railroads',\n",
       " 'Title 46 - Shipping ٭',\n",
       " 'Title 47 - Telecommunications',\n",
       " 'Title 48 - Territories and Insular Possessions',\n",
       " 'Title 49 - Transportation ٭',\n",
       " 'Title 50 - War and National Defense',\n",
       " 'Title 51 - National and Commercial Space Programs ٭',\n",
       " 'Title 52 - Voting and Elections',\n",
       " 'Title 53 [Reserved]',\n",
       " 'Title 54 - National Park Service and Related Programs ٭']"
      ]
     },
     "execution_count": 44,
     "metadata": {},
     "output_type": "execute_result"
    }
   ],
   "source": [
    "etiqueta = sopa.find_all('div', class_='usctitle')\n",
    "lista = []\n",
    "\n",
    "for i in etiqueta:\n",
    "    lista.append(i.text.strip())\n",
    "\n",
    "lista\n",
    "\n"
   ]
  },
  {
   "attachments": {
    "image.png": {
     "image/png": "[encoded data removed]"
    }
   },
   "cell_type": "markdown",
   "metadata": {},
   "source": [
    "![image.png](attachment:image.png) \n",
    "<h6>El inspeccionar de mi url, ver la class \"uscitem\" que es la que contiene los enlances<h6>"
   ]
  },
  {
   "cell_type": "markdown",
   "metadata": {},
   "source": [
    "#### A Python list with the top ten FBI's Most Wanted names "
   ]
  },
  {
   "cell_type": "code",
   "execution_count": 45,
   "metadata": {},
   "outputs": [],
   "source": [
    "# This is the url you will scrape in this exercise\n",
    "url = 'https://www.fbi.gov/wanted/topten' "
   ]
  },
  {
   "cell_type": "code",
   "execution_count": 47,
   "metadata": {},
   "outputs": [],
   "source": [
    "html = req.get(url).text\n",
    "sopa = bs(html , \"html.parser\")\n"
   ]
  },
  {
   "cell_type": "code",
   "execution_count": 56,
   "metadata": {},
   "outputs": [
    {
     "data": {
      "text/plain": [
       "['RUJA IGNATOVA',\n",
       " 'DONALD EUGENE FIELDS II',\n",
       " 'ALEXIS FLORES',\n",
       " 'ARNOLDO JIMENEZ',\n",
       " 'OMAR ALEXANDER CARDENAS',\n",
       " 'YULAN ADONAY ARCHAGA CARIAS',\n",
       " 'BHADRESHKUMAR CHETANBHAI PATEL',\n",
       " 'WILVER VILLEGAS-PALOMINO',\n",
       " 'ALEJANDRO ROSALES CASTILLO',\n",
       " 'JOSE RODOLFO VILLARREAL-HERNANDEZ',\n",
       " 'federal bureau of investigation',\n",
       " 'FBI.gov Contact Center']"
      ]
     },
     "execution_count": 56,
     "metadata": {},
     "output_type": "execute_result"
    }
   ],
   "source": [
    "escoria = []\n",
    "\n",
    "lista = sopa.find_all(\"h3\")\n",
    "\n",
    "for i in lista:\n",
    "    escoria.append(i.text.strip())\n",
    "    \n",
    "escoria\n"
   ]
  },
  {
   "attachments": {
    "Captura de pantalla 2023-08-28 204848.png": {
     "image/png": "[encoded data removed]"
    }
   },
   "cell_type": "markdown",
   "metadata": {},
   "source": [
    "![Captura de pantalla 2023-08-28 204848.png](<attachment:Captura de pantalla 2023-08-28 204848.png>)\n",
    "<h6>selecciono el nombre y busco el la etiqueta h3 <h6>"
   ]
  },
  {
   "cell_type": "markdown",
   "metadata": {},
   "source": [
    "####  20 latest earthquakes info (date, time, latitude, longitude and region name) by the EMSC as a pandas dataframe"
   ]
  },
  {
   "cell_type": "code",
   "execution_count": null,
   "metadata": {},
   "outputs": [],
   "source": [
    "# This is the url you will scrape in this exercise\n",
    "url = 'https://www.emsc-csem.org/Earthquake/'"
   ]
  },
  {
   "cell_type": "code",
   "execution_count": null,
   "metadata": {},
   "outputs": [],
   "source": [
    "#your code"
   ]
  },
  {
   "cell_type": "markdown",
   "metadata": {},
   "source": [
    "#### Display the date, days, title, city, country of next 25 hackathon events as a Pandas dataframe table"
   ]
  },
  {
   "cell_type": "code",
   "execution_count": null,
   "metadata": {},
   "outputs": [],
   "source": [
    "# This is the url you will scrape in this exercise\n",
    "url ='https://hackevents.co/hackathons'"
   ]
  },
  {
   "cell_type": "code",
   "execution_count": null,
   "metadata": {},
   "outputs": [],
   "source": [
    "#your code"
   ]
  },
  {
   "cell_type": "markdown",
   "metadata": {},
   "source": [
    "#### Count number of tweets by a given Twitter account."
   ]
  },
  {
   "cell_type": "markdown",
   "metadata": {},
   "source": [
    "You will need to include a ***try/except block*** for account names not found. \n",
    "<br>***Hint:*** the program should count the number of tweets for any provided account"
   ]
  },
  {
   "cell_type": "code",
   "execution_count": null,
   "metadata": {},
   "outputs": [],
   "source": [
    "# This is the url you will scrape in this exercise \n",
    "# You will need to add the account credentials to this url\n",
    "url = 'https://twitter.com/'"
   ]
  },
  {
   "cell_type": "code",
   "execution_count": null,
   "metadata": {},
   "outputs": [],
   "source": [
    "#your code"
   ]
  },
  {
   "cell_type": "markdown",
   "metadata": {},
   "source": [
    "#### Number of followers of a given twitter account"
   ]
  },
  {
   "cell_type": "markdown",
   "metadata": {},
   "source": [
    "You will need to include a ***try/except block*** in case account/s name not found. \n",
    "<br>***Hint:*** the program should count the followers for any provided account"
   ]
  },
  {
   "cell_type": "code",
   "execution_count": null,
   "metadata": {},
   "outputs": [],
   "source": [
    "# This is the url you will scrape in this exercise \n",
    "# You will need to add the account credentials to this url\n",
    "url = 'https://twitter.com/'"
   ]
  },
  {
   "cell_type": "code",
   "execution_count": null,
   "metadata": {},
   "outputs": [],
   "source": [
    "#your code"
   ]
  },
  {
   "cell_type": "markdown",
   "metadata": {},
   "source": [
    "#### List all language names and number of related articles in the order they appear in wikipedia.org"
   ]
  },
  {
   "cell_type": "code",
   "execution_count": 64,
   "metadata": {},
   "outputs": [],
   "source": [
    "# This is the url you will scrape in this exercise\n",
    "url = 'https://www.wikipedia.org/'\n"
   ]
  },
  {
   "cell_type": "code",
   "execution_count": 75,
   "metadata": {},
   "outputs": [
    {
     "data": {
      "text/plain": [
       "['The Free Encyclopedia',\n",
       " 'English',\n",
       " '日本語',\n",
       " 'Español',\n",
       " 'Русский',\n",
       " 'Deutsch',\n",
       " 'Français',\n",
       " 'Italiano',\n",
       " '中文',\n",
       " 'Português',\n",
       " 'فارسی',\n",
       " 'Download Wikipedia for Android or iOS']"
      ]
     },
     "execution_count": 75,
     "metadata": {},
     "output_type": "execute_result"
    }
   ],
   "source": [
    "html = req.get(url).content\n",
    "sopa = bs(html,\"html.parser\")\n",
    "\n",
    "\n",
    "languaje = []\n",
    "\n",
    "strong_tags = sopa.find_all(\"strong\")\n",
    "\n",
    "for i in strong_tags:\n",
    "    languaje.append(i.text.strip())\n",
    "\n",
    "\n",
    "languaje.pop #pop elimina el ultimo elemento de la lista\n",
    "\n",
    "languaje\n"
   ]
  },
  {
   "attachments": {
    "image.png": {
     "image/png": "[encoded data removed]"
    }
   },
   "cell_type": "markdown",
   "metadata": {},
   "source": [
    "![image.png](attachment:image.png) \n",
    "<h6>busco todas las etiquetas stron<h6>"
   ]
  },
  {
   "cell_type": "markdown",
   "metadata": {},
   "source": [
    "#### A list with the different kind of datasets available in data.gov.uk "
   ]
  },
  {
   "cell_type": "code",
   "execution_count": 77,
   "metadata": {},
   "outputs": [],
   "source": [
    "# This is the url you will scrape in this exercise\n",
    "url = 'https://data.gov.uk/'"
   ]
  },
  {
   "cell_type": "code",
   "execution_count": 78,
   "metadata": {},
   "outputs": [
    {
     "data": {
      "text/plain": [
       "['Business and economy',\n",
       " 'Crime and justice',\n",
       " 'Defence',\n",
       " 'Education',\n",
       " 'Environment',\n",
       " 'Government',\n",
       " 'Government spending',\n",
       " 'Health',\n",
       " 'Mapping',\n",
       " 'Society',\n",
       " 'Towns and cities',\n",
       " 'Transport',\n",
       " 'Digital service performance',\n",
       " 'Government reference data']"
      ]
     },
     "execution_count": 78,
     "metadata": {},
     "output_type": "execute_result"
    }
   ],
   "source": [
    "#your code \n",
    "html = req.get(url).text\n",
    "\n",
    "sopa = bs(html,\"html.parser\")\n",
    "\n",
    "etiqueta = sopa.find_all(\"h3\")\n",
    "\n",
    "dataset = []\n",
    "\n",
    "for i in etiqueta:\n",
    "    dataset.append(i.text.strip())  #Con strip elimino cualquier espacio inicial y final \n",
    "\n",
    "dataset\n",
    "\n"
   ]
  },
  {
   "cell_type": "markdown",
   "metadata": {},
   "source": [
    "#### Top 10 languages by number of native speakers stored in a Pandas Dataframe"
   ]
  },
  {
   "cell_type": "code",
   "execution_count": 108,
   "metadata": {},
   "outputs": [],
   "source": [
    "# This is the url you will scrape in this exercise\n",
    "url = 'https://en.wikipedia.org/wiki/List_of_languages_by_number_of_native_speakers'"
   ]
  },
  {
   "cell_type": "code",
   "execution_count": 109,
   "metadata": {},
   "outputs": [],
   "source": [
    "#your code\n",
    "html = req.get(url).content\n",
    "sopa = bs(html, \"html.parser\")"
   ]
  },
  {
   "cell_type": "code",
   "execution_count": 116,
   "metadata": {},
   "outputs": [
    {
     "data": {
      "text/plain": [
       "[['Mandarin Chinese(incl. Standard Chinese, but excl. other varieties)'],\n",
       " ['939'],\n",
       " ['Sino-Tibetan'],\n",
       " ['Sinitic'],\n",
       " ['Spanish'],\n",
       " ['485'],\n",
       " ['Indo-European'],\n",
       " ['Romance'],\n",
       " ['English'],\n",
       " ['380'],\n",
       " ['Indo-European'],\n",
       " ['Germanic'],\n",
       " ['Hindi(excl. Urdu, and other languages)'],\n",
       " ['345'],\n",
       " ['Indo-European'],\n",
       " ['Indo-Aryan'],\n",
       " ['Portuguese'],\n",
       " ['236'],\n",
       " ['Indo-European'],\n",
       " ['Romance'],\n",
       " ['Bengali'],\n",
       " ['234'],\n",
       " ['Indo-European'],\n",
       " ['Indo-Aryan'],\n",
       " ['Russian'],\n",
       " ['147'],\n",
       " ['Indo-European'],\n",
       " ['Balto-Slavic'],\n",
       " ['Japanese'],\n",
       " ['123'],\n",
       " ['Japonic'],\n",
       " ['Japanese'],\n",
       " ['Yue Chinese(incl. Cantonese)'],\n",
       " ['86.1'],\n",
       " ['Sino-Tibetan'],\n",
       " ['Sinitic'],\n",
       " ['Vietnamese'],\n",
       " ['85.0'],\n",
       " ['Austroasiatic'],\n",
       " ['Vietic'],\n",
       " ['Turkish'],\n",
       " ['84.0'],\n",
       " ['Turkic'],\n",
       " ['Oghuz'],\n",
       " ['Wu Chinese(incl. Shanghainese)'],\n",
       " ['83.4'],\n",
       " ['Sino-Tibetan'],\n",
       " ['Sinitic'],\n",
       " ['Marathi'],\n",
       " ['83.2'],\n",
       " ['Indo-European'],\n",
       " ['Indo-Aryan'],\n",
       " ['Telugu'],\n",
       " ['83.0'],\n",
       " ['Dravidian'],\n",
       " ['South-Central'],\n",
       " ['Korean'],\n",
       " ['81.7'],\n",
       " ['Koreanic'],\n",
       " ['—'],\n",
       " ['French'],\n",
       " ['80.8'],\n",
       " ['Indo-European'],\n",
       " ['Romance'],\n",
       " ['Tamil'],\n",
       " ['78.6'],\n",
       " ['Dravidian'],\n",
       " ['South'],\n",
       " ['Egyptian Spoken Arabic(excl. Saʽidi Arabic)'],\n",
       " ['77.4'],\n",
       " ['Afroasiatic'],\n",
       " ['Semitic'],\n",
       " ['Standard German'],\n",
       " ['75.3'],\n",
       " ['Indo-European'],\n",
       " ['Germanic'],\n",
       " ['Urdu(excl. Hindi)'],\n",
       " ['70.6'],\n",
       " ['Indo-European'],\n",
       " ['Indo-Aryan'],\n",
       " ['Javanese'],\n",
       " ['68.3'],\n",
       " ['Austronesian'],\n",
       " ['Malayo-Polynesian'],\n",
       " ['Western Punjabi(excl. Eastern Punjabi)'],\n",
       " ['66.7'],\n",
       " ['Indo-European'],\n",
       " ['Indo-Aryan'],\n",
       " ['Italian'],\n",
       " ['64.6'],\n",
       " ['Indo-European'],\n",
       " ['Romance'],\n",
       " ['Gujarati'],\n",
       " ['57.1'],\n",
       " ['Indo-European'],\n",
       " ['Indo-Aryan'],\n",
       " ['Iranian Persian(excl. Dari and Tajik)'],\n",
       " ['57.2'],\n",
       " ['Indo-European'],\n",
       " ['Iranian'],\n",
       " ['Bhojpuri'],\n",
       " ['52.3'],\n",
       " ['Indo-European'],\n",
       " ['Indo-Aryan'],\n",
       " ['Hausa'],\n",
       " ['51.7'],\n",
       " ['Afroasiatic'],\n",
       " ['Chadic'],\n",
       " ['1'],\n",
       " ['Mandarin Chinese'],\n",
       " ['12.3%'],\n",
       " ['2'],\n",
       " ['Spanish'],\n",
       " ['6.0%'],\n",
       " ['3'],\n",
       " ['English'],\n",
       " ['5.1%'],\n",
       " ['3'],\n",
       " ['Arabic'],\n",
       " ['5.1%'],\n",
       " ['5'],\n",
       " ['Hindi'],\n",
       " ['3.5%'],\n",
       " ['6'],\n",
       " ['Bengali'],\n",
       " ['3.3%'],\n",
       " ['7'],\n",
       " ['Portuguese'],\n",
       " ['3.0%'],\n",
       " ['8'],\n",
       " ['Russian'],\n",
       " ['2.1%'],\n",
       " ['9'],\n",
       " ['Japanese'],\n",
       " ['1.7%'],\n",
       " ['10'],\n",
       " ['Western Punjabi'],\n",
       " ['1.3%'],\n",
       " ['11'],\n",
       " ['Javanese'],\n",
       " ['1.1%'],\n",
       " ['CountriesBy languagesOfficial',\n",
       "  'Countries by the number of recognized official languages',\n",
       "  'Arabic',\n",
       "  'Chinese',\n",
       "  'Dutch/Afrikaans',\n",
       "  'English',\n",
       "  'French',\n",
       "  'German',\n",
       "  'Hindustani',\n",
       "  'Italian',\n",
       "  'Malay',\n",
       "  'Persian',\n",
       "  'Portuguese',\n",
       "  'Romanian',\n",
       "  'Russian',\n",
       "  'Spanish',\n",
       "  'Tamil',\n",
       "  'Endonyms',\n",
       "  'Countries and capitals in native languages',\n",
       "  'Exonyms',\n",
       "  'Country names in various languages',\n",
       "  'A–C',\n",
       "  'D–I',\n",
       "  'J–P',\n",
       "  'Q–Z',\n",
       "  'Cambodia',\n",
       "  'China',\n",
       "  'Germany',\n",
       "  'Iceland',\n",
       "  'India',\n",
       "  'Indonesia',\n",
       "  'Japan',\n",
       "  'Korea',\n",
       "  'Kosovo',\n",
       "  'Myanmar',\n",
       "  'Singapore',\n",
       "  'Sri Lanka',\n",
       "  'Vietnam',\n",
       "  'Languages of the European Union'],\n",
       " ['By languagesOfficial',\n",
       "  'Countries by the number of recognized official languages',\n",
       "  'Arabic',\n",
       "  'Chinese',\n",
       "  'Dutch/Afrikaans',\n",
       "  'English',\n",
       "  'French',\n",
       "  'German',\n",
       "  'Hindustani',\n",
       "  'Italian',\n",
       "  'Malay',\n",
       "  'Persian',\n",
       "  'Portuguese',\n",
       "  'Romanian',\n",
       "  'Russian',\n",
       "  'Spanish',\n",
       "  'Tamil',\n",
       "  'Endonyms',\n",
       "  'Countries and capitals in native languages',\n",
       "  'Exonyms',\n",
       "  'Country names in various languages',\n",
       "  'A–C',\n",
       "  'D–I',\n",
       "  'J–P',\n",
       "  'Q–Z',\n",
       "  'Cambodia',\n",
       "  'China',\n",
       "  'Germany',\n",
       "  'Iceland',\n",
       "  'India',\n",
       "  'Indonesia',\n",
       "  'Japan',\n",
       "  'Korea',\n",
       "  'Kosovo',\n",
       "  'Myanmar',\n",
       "  'Singapore',\n",
       "  'Sri Lanka',\n",
       "  'Vietnam',\n",
       "  'Languages of the European Union'],\n",
       " ['Official',\n",
       "  'Countries by the number of recognized official languages',\n",
       "  'Arabic',\n",
       "  'Chinese',\n",
       "  'Dutch/Afrikaans',\n",
       "  'English',\n",
       "  'French',\n",
       "  'German',\n",
       "  'Hindustani',\n",
       "  'Italian',\n",
       "  'Malay',\n",
       "  'Persian',\n",
       "  'Portuguese',\n",
       "  'Romanian',\n",
       "  'Russian',\n",
       "  'Spanish',\n",
       "  'Tamil'],\n",
       " ['Countries by the number of recognized official languages',\n",
       "  'Arabic',\n",
       "  'Chinese',\n",
       "  'Dutch/Afrikaans',\n",
       "  'English',\n",
       "  'French',\n",
       "  'German',\n",
       "  'Hindustani',\n",
       "  'Italian',\n",
       "  'Malay',\n",
       "  'Persian',\n",
       "  'Portuguese',\n",
       "  'Romanian',\n",
       "  'Russian',\n",
       "  'Spanish',\n",
       "  'Tamil'],\n",
       " ['Countries and capitals in native languages'],\n",
       " ['Country names in various languages',\n",
       "  'A–C',\n",
       "  'D–I',\n",
       "  'J–P',\n",
       "  'Q–Z',\n",
       "  'Cambodia',\n",
       "  'China',\n",
       "  'Germany',\n",
       "  'Iceland',\n",
       "  'India',\n",
       "  'Indonesia',\n",
       "  'Japan',\n",
       "  'Korea',\n",
       "  'Kosovo',\n",
       "  'Myanmar',\n",
       "  'Singapore',\n",
       "  'Sri Lanka',\n",
       "  'Vietnam',\n",
       "  'Languages of the European Union'],\n",
       " ['LanguagesBy continent',\n",
       "  'Africa',\n",
       "  'Americas',\n",
       "  'North',\n",
       "  'South',\n",
       "  'Asia',\n",
       "  'East',\n",
       "  'South',\n",
       "  'Europe',\n",
       "  'Oceania',\n",
       "  'By country',\n",
       "  'Official languages',\n",
       "  'by country and territory',\n",
       "  'List of languages without official status',\n",
       "  'Countries by the number of recognized official languages',\n",
       "  'Languages by the number of countries in which they are recognized as an official language',\n",
       "  'Number of languages',\n",
       "  'By population',\n",
       "  'By number of native speakers',\n",
       "  'Europe',\n",
       "  'By number of total speakers',\n",
       "  'Languages in censuses',\n",
       "  'By family',\n",
       "  'Language families',\n",
       "  'List of Afro-Asiatic languages',\n",
       "  'List of Austronesian languages',\n",
       "  'List of Indo-European languages',\n",
       "  'List of Mongolic languages',\n",
       "  'List of Tungusic languages',\n",
       "  'List of Turkic languages',\n",
       "  'List of Uralic languages',\n",
       "  'Language-basedgeopoliticalorganizations',\n",
       "  'Arab League (Arabic)',\n",
       "  'Dutch Language Union (Dutch)',\n",
       "  'Commonwealth of Nations (English)',\n",
       "  'Latin Union\\xa0(Romance)',\n",
       "  'Three Linguistic Spaces',\n",
       "  'Francophonie (French)',\n",
       "  'Community of Portuguese Language Countries',\n",
       "  'Países Africanos de Língua Oficial Portuguesa (Portuguese)',\n",
       "  'Hispanidad (Spanish)',\n",
       "  'Organization of Turkic States\\xa0(Turkic)',\n",
       "  'International Organization of Turkic Culture\\xa0(Turkic)',\n",
       "  'See also',\n",
       "  'Lists of languages',\n",
       "  'Category:Languages'],\n",
       " ['By continent',\n",
       "  'Africa',\n",
       "  'Americas',\n",
       "  'North',\n",
       "  'South',\n",
       "  'Asia',\n",
       "  'East',\n",
       "  'South',\n",
       "  'Europe',\n",
       "  'Oceania',\n",
       "  'By country',\n",
       "  'Official languages',\n",
       "  'by country and territory',\n",
       "  'List of languages without official status',\n",
       "  'Countries by the number of recognized official languages',\n",
       "  'Languages by the number of countries in which they are recognized as an official language',\n",
       "  'Number of languages',\n",
       "  'By population',\n",
       "  'By number of native speakers',\n",
       "  'Europe',\n",
       "  'By number of total speakers',\n",
       "  'Languages in censuses',\n",
       "  'By family',\n",
       "  'Language families',\n",
       "  'List of Afro-Asiatic languages',\n",
       "  'List of Austronesian languages',\n",
       "  'List of Indo-European languages',\n",
       "  'List of Mongolic languages',\n",
       "  'List of Tungusic languages',\n",
       "  'List of Turkic languages',\n",
       "  'List of Uralic languages',\n",
       "  'Language-basedgeopoliticalorganizations',\n",
       "  'Arab League (Arabic)',\n",
       "  'Dutch Language Union (Dutch)',\n",
       "  'Commonwealth of Nations (English)',\n",
       "  'Latin Union\\xa0(Romance)',\n",
       "  'Three Linguistic Spaces',\n",
       "  'Francophonie (French)',\n",
       "  'Community of Portuguese Language Countries',\n",
       "  'Países Africanos de Língua Oficial Portuguesa (Portuguese)',\n",
       "  'Hispanidad (Spanish)',\n",
       "  'Organization of Turkic States\\xa0(Turkic)',\n",
       "  'International Organization of Turkic Culture\\xa0(Turkic)',\n",
       "  'See also',\n",
       "  'Lists of languages',\n",
       "  'Category:Languages'],\n",
       " ['Africa',\n",
       "  'Americas',\n",
       "  'North',\n",
       "  'South',\n",
       "  'Asia',\n",
       "  'East',\n",
       "  'South',\n",
       "  'Europe',\n",
       "  'Oceania'],\n",
       " ['Official languages',\n",
       "  'by country and territory',\n",
       "  'List of languages without official status',\n",
       "  'Countries by the number of recognized official languages',\n",
       "  'Languages by the number of countries in which they are recognized as an official language',\n",
       "  'Number of languages'],\n",
       " ['By number of native speakers',\n",
       "  'Europe',\n",
       "  'By number of total speakers',\n",
       "  'Languages in censuses'],\n",
       " ['Language families',\n",
       "  'List of Afro-Asiatic languages',\n",
       "  'List of Austronesian languages',\n",
       "  'List of Indo-European languages',\n",
       "  'List of Mongolic languages',\n",
       "  'List of Tungusic languages',\n",
       "  'List of Turkic languages',\n",
       "  'List of Uralic languages'],\n",
       " ['Arab League (Arabic)',\n",
       "  'Dutch Language Union (Dutch)',\n",
       "  'Commonwealth of Nations (English)',\n",
       "  'Latin Union\\xa0(Romance)',\n",
       "  'Three Linguistic Spaces',\n",
       "  'Francophonie (French)',\n",
       "  'Community of Portuguese Language Countries',\n",
       "  'Países Africanos de Língua Oficial Portuguesa (Portuguese)',\n",
       "  'Hispanidad (Spanish)',\n",
       "  'Organization of Turkic States\\xa0(Turkic)',\n",
       "  'International Organization of Turkic Culture\\xa0(Turkic)'],\n",
       " ['Lists of languages', 'Category:Languages']]"
      ]
     },
     "execution_count": 116,
     "metadata": {},
     "output_type": "execute_result"
    }
   ],
   "source": [
    "filas = sopa.find_all(\"td\")\n",
    "filas = [row.text.strip().split(\"\\n\") for row in filas ]# \\n parto por el salto de línea\n",
    "filas"
   ]
  },
  {
   "cell_type": "code",
   "execution_count": 119,
   "metadata": {},
   "outputs": [
    {
     "ename": "ValueError",
     "evalue": "1 columns passed, passed data had 46 columns",
     "output_type": "error",
     "traceback": [
      "\u001b[1;31m---------------------------------------------------------------------------\u001b[0m",
      "\u001b[1;31mAssertionError\u001b[0m                            Traceback (most recent call last)",
      "File \u001b[1;32mc:\\Users\\filokaizen\\anaconda3\\Lib\\site-packages\\pandas\\core\\internals\\construction.py:969\u001b[0m, in \u001b[0;36m_finalize_columns_and_data\u001b[1;34m(content, columns, dtype)\u001b[0m\n\u001b[0;32m    968\u001b[0m \u001b[39mtry\u001b[39;00m:\n\u001b[1;32m--> 969\u001b[0m     columns \u001b[39m=\u001b[39m _validate_or_indexify_columns(contents, columns)\n\u001b[0;32m    970\u001b[0m \u001b[39mexcept\u001b[39;00m \u001b[39mAssertionError\u001b[39;00m \u001b[39mas\u001b[39;00m err:\n\u001b[0;32m    971\u001b[0m     \u001b[39m# GH#26429 do not raise user-facing AssertionError\u001b[39;00m\n",
      "File \u001b[1;32mc:\\Users\\filokaizen\\anaconda3\\Lib\\site-packages\\pandas\\core\\internals\\construction.py:1017\u001b[0m, in \u001b[0;36m_validate_or_indexify_columns\u001b[1;34m(content, columns)\u001b[0m\n\u001b[0;32m   1015\u001b[0m \u001b[39mif\u001b[39;00m \u001b[39mnot\u001b[39;00m is_mi_list \u001b[39mand\u001b[39;00m \u001b[39mlen\u001b[39m(columns) \u001b[39m!=\u001b[39m \u001b[39mlen\u001b[39m(content):  \u001b[39m# pragma: no cover\u001b[39;00m\n\u001b[0;32m   1016\u001b[0m     \u001b[39m# caller's responsibility to check for this...\u001b[39;00m\n\u001b[1;32m-> 1017\u001b[0m     \u001b[39mraise\u001b[39;00m \u001b[39mAssertionError\u001b[39;00m(\n\u001b[0;32m   1018\u001b[0m         \u001b[39mf\u001b[39m\u001b[39m\"\u001b[39m\u001b[39m{\u001b[39;00m\u001b[39mlen\u001b[39m(columns)\u001b[39m}\u001b[39;00m\u001b[39m columns passed, passed data had \u001b[39m\u001b[39m\"\u001b[39m\n\u001b[0;32m   1019\u001b[0m         \u001b[39mf\u001b[39m\u001b[39m\"\u001b[39m\u001b[39m{\u001b[39;00m\u001b[39mlen\u001b[39m(content)\u001b[39m}\u001b[39;00m\u001b[39m columns\u001b[39m\u001b[39m\"\u001b[39m\n\u001b[0;32m   1020\u001b[0m     )\n\u001b[0;32m   1021\u001b[0m \u001b[39melif\u001b[39;00m is_mi_list:\n\u001b[0;32m   1022\u001b[0m \n\u001b[0;32m   1023\u001b[0m     \u001b[39m# check if nested list column, length of each sub-list should be equal\u001b[39;00m\n",
      "\u001b[1;31mAssertionError\u001b[0m: 1 columns passed, passed data had 46 columns",
      "\nThe above exception was the direct cause of the following exception:\n",
      "\u001b[1;31mValueError\u001b[0m                                Traceback (most recent call last)",
      "Cell \u001b[1;32mIn[119], line 4\u001b[0m\n\u001b[0;32m      1\u001b[0m columnas \u001b[39m=\u001b[39m filas[\u001b[39m0\u001b[39m]\n\u001b[0;32m      2\u001b[0m data \u001b[39m=\u001b[39m filas\n\u001b[1;32m----> 4\u001b[0m df \u001b[39m=\u001b[39mpd\u001b[39m.\u001b[39;49mDataFrame(data, columns \u001b[39m=\u001b[39;49m columnas)\n\u001b[0;32m      5\u001b[0m df\u001b[39m.\u001b[39mhead(\u001b[39m10\u001b[39m)\n",
      "File \u001b[1;32mc:\\Users\\filokaizen\\anaconda3\\Lib\\site-packages\\pandas\\core\\frame.py:746\u001b[0m, in \u001b[0;36mDataFrame.__init__\u001b[1;34m(self, data, index, columns, dtype, copy)\u001b[0m\n\u001b[0;32m    744\u001b[0m     \u001b[39mif\u001b[39;00m columns \u001b[39mis\u001b[39;00m \u001b[39mnot\u001b[39;00m \u001b[39mNone\u001b[39;00m:\n\u001b[0;32m    745\u001b[0m         columns \u001b[39m=\u001b[39m ensure_index(columns)\n\u001b[1;32m--> 746\u001b[0m     arrays, columns, index \u001b[39m=\u001b[39m nested_data_to_arrays(\n\u001b[0;32m    747\u001b[0m         \u001b[39m# error: Argument 3 to \"nested_data_to_arrays\" has incompatible\u001b[39;49;00m\n\u001b[0;32m    748\u001b[0m         \u001b[39m# type \"Optional[Collection[Any]]\"; expected \"Optional[Index]\"\u001b[39;49;00m\n\u001b[0;32m    749\u001b[0m         data,\n\u001b[0;32m    750\u001b[0m         columns,\n\u001b[0;32m    751\u001b[0m         index,  \u001b[39m# type: ignore[arg-type]\u001b[39;49;00m\n\u001b[0;32m    752\u001b[0m         dtype,\n\u001b[0;32m    753\u001b[0m     )\n\u001b[0;32m    754\u001b[0m     mgr \u001b[39m=\u001b[39m arrays_to_mgr(\n\u001b[0;32m    755\u001b[0m         arrays,\n\u001b[0;32m    756\u001b[0m         columns,\n\u001b[1;32m   (...)\u001b[0m\n\u001b[0;32m    759\u001b[0m         typ\u001b[39m=\u001b[39mmanager,\n\u001b[0;32m    760\u001b[0m     )\n\u001b[0;32m    761\u001b[0m \u001b[39melse\u001b[39;00m:\n",
      "File \u001b[1;32mc:\\Users\\filokaizen\\anaconda3\\Lib\\site-packages\\pandas\\core\\internals\\construction.py:510\u001b[0m, in \u001b[0;36mnested_data_to_arrays\u001b[1;34m(data, columns, index, dtype)\u001b[0m\n\u001b[0;32m    507\u001b[0m \u001b[39mif\u001b[39;00m is_named_tuple(data[\u001b[39m0\u001b[39m]) \u001b[39mand\u001b[39;00m columns \u001b[39mis\u001b[39;00m \u001b[39mNone\u001b[39;00m:\n\u001b[0;32m    508\u001b[0m     columns \u001b[39m=\u001b[39m ensure_index(data[\u001b[39m0\u001b[39m]\u001b[39m.\u001b[39m_fields)\n\u001b[1;32m--> 510\u001b[0m arrays, columns \u001b[39m=\u001b[39m to_arrays(data, columns, dtype\u001b[39m=\u001b[39;49mdtype)\n\u001b[0;32m    511\u001b[0m columns \u001b[39m=\u001b[39m ensure_index(columns)\n\u001b[0;32m    513\u001b[0m \u001b[39mif\u001b[39;00m index \u001b[39mis\u001b[39;00m \u001b[39mNone\u001b[39;00m:\n",
      "File \u001b[1;32mc:\\Users\\filokaizen\\anaconda3\\Lib\\site-packages\\pandas\\core\\internals\\construction.py:875\u001b[0m, in \u001b[0;36mto_arrays\u001b[1;34m(data, columns, dtype)\u001b[0m\n\u001b[0;32m    872\u001b[0m     data \u001b[39m=\u001b[39m [\u001b[39mtuple\u001b[39m(x) \u001b[39mfor\u001b[39;00m x \u001b[39min\u001b[39;00m data]\n\u001b[0;32m    873\u001b[0m     arr \u001b[39m=\u001b[39m _list_to_arrays(data)\n\u001b[1;32m--> 875\u001b[0m content, columns \u001b[39m=\u001b[39m _finalize_columns_and_data(arr, columns, dtype)\n\u001b[0;32m    876\u001b[0m \u001b[39mreturn\u001b[39;00m content, columns\n",
      "File \u001b[1;32mc:\\Users\\filokaizen\\anaconda3\\Lib\\site-packages\\pandas\\core\\internals\\construction.py:972\u001b[0m, in \u001b[0;36m_finalize_columns_and_data\u001b[1;34m(content, columns, dtype)\u001b[0m\n\u001b[0;32m    969\u001b[0m     columns \u001b[39m=\u001b[39m _validate_or_indexify_columns(contents, columns)\n\u001b[0;32m    970\u001b[0m \u001b[39mexcept\u001b[39;00m \u001b[39mAssertionError\u001b[39;00m \u001b[39mas\u001b[39;00m err:\n\u001b[0;32m    971\u001b[0m     \u001b[39m# GH#26429 do not raise user-facing AssertionError\u001b[39;00m\n\u001b[1;32m--> 972\u001b[0m     \u001b[39mraise\u001b[39;00m \u001b[39mValueError\u001b[39;00m(err) \u001b[39mfrom\u001b[39;00m \u001b[39merr\u001b[39;00m\n\u001b[0;32m    974\u001b[0m \u001b[39mif\u001b[39;00m \u001b[39mlen\u001b[39m(contents) \u001b[39mand\u001b[39;00m contents[\u001b[39m0\u001b[39m]\u001b[39m.\u001b[39mdtype \u001b[39m==\u001b[39m np\u001b[39m.\u001b[39mobject_:\n\u001b[0;32m    975\u001b[0m     contents \u001b[39m=\u001b[39m _convert_object_array(contents, dtype\u001b[39m=\u001b[39mdtype)\n",
      "\u001b[1;31mValueError\u001b[0m: 1 columns passed, passed data had 46 columns"
     ]
    }
   ],
   "source": [
    "columnas = filas[0]\n",
    "data = filas\n",
    "\n",
    "df =pd.DataFrame(data, columns = columnas)\n",
    "df.head(10)"
   ]
  },
  {
   "attachments": {
    "image.png": {
     "image/png": "[encoded data removed]"
    }
   },
   "cell_type": "markdown",
   "metadata": {},
   "source": [
    "![image.png](attachment:image.png)\n",
    "<h6>Busco en la etiqueta madre <h6>"
   ]
  },
  {
   "cell_type": "code",
   "execution_count": 133,
   "metadata": {},
   "outputs": [
    {
     "data": {
      "text/html": [
       "<div>\n",
       "<style scoped>\n",
       "    .dataframe tbody tr th:only-of-type {\n",
       "        vertical-align: middle;\n",
       "    }\n",
       "\n",
       "    .dataframe tbody tr th {\n",
       "        vertical-align: top;\n",
       "    }\n",
       "\n",
       "    .dataframe thead th {\n",
       "        text-align: right;\n",
       "    }\n",
       "</style>\n",
       "<table border=\"1\" class=\"dataframe\">\n",
       "  <thead>\n",
       "    <tr style=\"text-align: right;\">\n",
       "      <th></th>\n",
       "      <th>td_with_numbers</th>\n",
       "    </tr>\n",
       "  </thead>\n",
       "  <tbody>\n",
       "    <tr>\n",
       "      <th>0</th>\n",
       "      <td>[939\\n]</td>\n",
       "    </tr>\n",
       "    <tr>\n",
       "      <th>1</th>\n",
       "      <td>[485\\n]</td>\n",
       "    </tr>\n",
       "    <tr>\n",
       "      <th>2</th>\n",
       "      <td>[380\\n]</td>\n",
       "    </tr>\n",
       "  </tbody>\n",
       "</table>\n",
       "</div>"
      ],
      "text/plain": [
       "  td_with_numbers\n",
       "0         [939\\n]\n",
       "1         [485\\n]\n",
       "2         [380\\n]"
      ]
     },
     "execution_count": 133,
     "metadata": {},
     "output_type": "execute_result"
    }
   ],
   "source": [
    "## CHATI \n",
    "\n",
    "from bs4 import BeautifulSoup\n",
    "\n",
    "# Supongamos que tienes el contenido HTML en una variable llamada \"html_content\"\n",
    "soup = BeautifulSoup(html, 'html.parser')\n",
    "\n",
    "# Buscar todas las etiquetas <td> en el contenido HTML\n",
    "td_tags = soup.find_all('td')\n",
    "\n",
    "# Crear una lista para almacenar las etiquetas <td> con números\n",
    "td_with_numbers = []\n",
    "\n",
    "# Iterar sobre las etiquetas <td> y seleccionar las que contengan números\n",
    "for tag in td_tags:\n",
    "    text = tag.text.strip()  # Obtener el texto de la etiqueta y eliminar los espacios en blanco\n",
    "    if any(char.isdigit() for char in text):  # Verificar si el texto contiene algún dígito\n",
    "        td_with_numbers.append(tag)  # Agregar la etiqueta a la lista\n",
    "\n",
    "# Imprimir las etiquetas <td> con números\n",
    "df = pd.DataFrame({'td_with_numbers': td_with_numbers})\n",
    "\n",
    "df.head(3)"
   ]
  },
  {
   "cell_type": "markdown",
   "metadata": {},
   "source": [
    "### BONUS QUESTIONS"
   ]
  },
  {
   "cell_type": "markdown",
   "metadata": {},
   "source": [
    "#### Scrape a certain number of tweets of a given Twitter account."
   ]
  },
  {
   "cell_type": "code",
   "execution_count": 120,
   "metadata": {},
   "outputs": [],
   "source": [
    "# This is the url you will scrape in this exercise \n",
    "# You will need to add the account credentials to this url\n",
    "url = 'https://twitter.com/'"
   ]
  },
  {
   "cell_type": "code",
   "execution_count": 121,
   "metadata": {},
   "outputs": [],
   "source": [
    "# your code"
   ]
  },
  {
   "cell_type": "markdown",
   "metadata": {},
   "source": [
    "#### IMDB's Top 250 data (movie name, Initial release, director name and stars) as a pandas dataframe"
   ]
  },
  {
   "cell_type": "code",
   "execution_count": 122,
   "metadata": {},
   "outputs": [],
   "source": [
    "# This is the url you will scrape in this exercise \n",
    "url = 'https://www.imdb.com/chart/top'"
   ]
  },
  {
   "cell_type": "code",
   "execution_count": 123,
   "metadata": {},
   "outputs": [],
   "source": [
    "# your code"
   ]
  },
  {
   "cell_type": "markdown",
   "metadata": {},
   "source": [
    "#### Movie name, year and a brief summary of the top 10 random movies (IMDB) as a pandas dataframe."
   ]
  },
  {
   "cell_type": "code",
   "execution_count": 124,
   "metadata": {},
   "outputs": [],
   "source": [
    "#This is the url you will scrape in this exercise\n",
    "url = 'http://www.imdb.com/chart/top'"
   ]
  },
  {
   "cell_type": "code",
   "execution_count": 125,
   "metadata": {},
   "outputs": [],
   "source": [
    "#your code"
   ]
  },
  {
   "cell_type": "markdown",
   "metadata": {},
   "source": [
    "#### Find the live weather report (temperature, wind speed, description and weather) of a given city."
   ]
  },
  {
   "cell_type": "code",
   "execution_count": 126,
   "metadata": {},
   "outputs": [],
   "source": [
    "#https://openweathermap.org/current\n",
    "city = city=input('Enter the city:')\n",
    "url = 'http://api.openweathermap.org/data/2.5/weather?'+'q='+city+'&APPID=b35975e18dc93725acb092f7272cc6b8&units=metric'"
   ]
  },
  {
   "cell_type": "code",
   "execution_count": 127,
   "metadata": {},
   "outputs": [],
   "source": [
    "# your code"
   ]
  },
  {
   "cell_type": "markdown",
   "metadata": {},
   "source": [
    "#### Book name,price and stock availability as a pandas dataframe."
   ]
  },
  {
   "cell_type": "code",
   "execution_count": 128,
   "metadata": {},
   "outputs": [],
   "source": [
    "# This is the url you will scrape in this exercise. \n",
    "# It is a fictional bookstore created to be scraped. \n",
    "url = 'http://books.toscrape.com/'"
   ]
  },
  {
   "cell_type": "code",
   "execution_count": 129,
   "metadata": {},
   "outputs": [],
   "source": [
    "#your code"
   ]
  }
 ],
 "metadata": {
  "kernelspec": {
   "display_name": "Python 3",
   "language": "python",
   "name": "python3"
  },
  "language_info": {
   "codemirror_mode": {
    "name": "ipython",
    "version": 3
   },
   "file_extension": ".py",
   "mimetype": "text/x-python",
   "name": "python",
   "nbconvert_exporter": "python",
   "pygments_lexer": "ipython3",
   "version": "3.11.4"
  }
 },
 "nbformat": 4,
 "nbformat_minor": 2
}
